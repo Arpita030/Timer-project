{
 "cells": [
  {
   "cell_type": "code",
   "execution_count": 1,
   "id": "18c7346d",
   "metadata": {},
   "outputs": [
    {
     "name": "stdout",
     "output_type": "stream",
     "text": [
      "Tell your time in seconds: 4\n",
      "Time's up! Alarm!\n"
     ]
    }
   ],
   "source": [
    "import time\n",
    "import winsound \n",
    "\n",
    "def countdown(t):\n",
    "    while t != 0:\n",
    "        mins, secs = divmod(t, 60)\n",
    "        timer = '{:02d}:{:02d}'.format(mins, secs)\n",
    "        print(timer, end=\"\\r\")\n",
    "        time.sleep(1)\n",
    "        t = t - 1\n",
    "\n",
    "\n",
    "    print(\"Time's up! Alarm!\")\n",
    "    winsound.Beep(1000, 2000) \n",
    "\n",
    "\n",
    "t = int(input(\"Tell your time in seconds: \"))\n",
    "\n",
    "countdown(t)\n"
   ]
  },
  {
   "cell_type": "code",
   "execution_count": null,
   "id": "5336ea56",
   "metadata": {},
   "outputs": [],
   "source": []
  }
 ],
 "metadata": {
  "kernelspec": {
   "display_name": "Python 3 (ipykernel)",
   "language": "python",
   "name": "python3"
  },
  "language_info": {
   "codemirror_mode": {
    "name": "ipython",
    "version": 3
   },
   "file_extension": ".py",
   "mimetype": "text/x-python",
   "name": "python",
   "nbconvert_exporter": "python",
   "pygments_lexer": "ipython3",
   "version": "3.11.5"
  }
 },
 "nbformat": 4,
 "nbformat_minor": 5
}
